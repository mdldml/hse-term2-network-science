{
 "cells": [
  {
   "cell_type": "markdown",
   "metadata": {
    "collapsed": true,
    "deletable": true,
    "editable": true
   },
   "source": [
    "## Lab 3 "
   ]
  },
  {
   "cell_type": "markdown",
   "metadata": {
    "deletable": true,
    "editable": true
   },
   "source": [
    "Deadline 14.02.2017 (at home)"
   ]
  },
  {
   "cell_type": "markdown",
   "metadata": {
    "deletable": true,
    "editable": true
   },
   "source": [
    "### Estimate parameters for degree distribution"
   ]
  },
  {
   "cell_type": "markdown",
   "metadata": {
    "deletable": true,
    "editable": true
   },
   "source": [
    "In this task you are asked to calculate the degree destribution when $p \\cdot n=1$ and when $p\\cdot n\\to +\\infty$ \n",
    "and estimate parameter $\\lambda$ for Poisson cases and $\\mu,\\sigma^2$ for Gaussian case."
   ]
  },
  {
   "cell_type": "code",
   "execution_count": 4,
   "metadata": {
    "collapsed": true
   },
   "outputs": [],
   "source": [
    "import numpy as np\n",
    "import matplotlib.pyplot as plt\n",
    "plt.xkcd()\n",
    "import numpy.random as rnd\n",
    "import networkx as nx\n",
    "%matplotlib inline"
   ]
  },
  {
   "cell_type": "code",
   "execution_count": 5,
   "metadata": {
    "collapsed": true,
    "deletable": true,
    "editable": true
   },
   "outputs": [],
   "source": [
    "def randgp(n, p):\n",
    "    G = nx.Graph()\n",
    "    G.add_nodes_from(range(0, n))\n",
    "    \n",
    "    for i in range(0, n - 1):\n",
    "        for j in range(i + 1, n):\n",
    "            if rnd.random() <= p:\n",
    "                G.add_edge(i,j)\n",
    "        \n",
    "    return G"
   ]
  },
  {
   "cell_type": "code",
   "execution_count": 8,
   "metadata": {
    "collapsed": false
   },
   "outputs": [],
   "source": [
    "n = 1000\n",
    "\n",
    "G1 = randgp(n, 1.0 / n)\n",
    "degrees = [G1.degree(v) for v in G1.nodes()]\n",
    "\n",
    "poisson_lambda = np.mean(degrees)\n",
    "\n",
    "normal_sigma = np.mean(degrees)\n",
    "normal_std = np.var(degrees)\n",
    "\n",
    "G2 = randp(n, 0.1)\n",
    "degrees = [G1.degree(v) for v in G1.nodes()]\n",
    "\n",
    "poisson_lambda = np.mean(degrees)\n",
    "\n",
    "normal_sigma = np.mean(degrees)\n",
    "normal_std = np.var(degrees)\n"
   ]
  },
  {
   "cell_type": "markdown",
   "metadata": {
    "deletable": true,
    "editable": true
   },
   "source": [
    "Find distributions in limit $n\\to+\\infty$ for degree destribution in Erdos model (use LATEX environment inside MarkDown Cell)\n",
    "\n",
    "Hint: There are two cases that you should find from emprical data above"
   ]
  },
  {
   "cell_type": "code",
   "execution_count": null,
   "metadata": {
    "collapsed": true,
    "deletable": true,
    "editable": true
   },
   "outputs": [],
   "source": []
  }
 ],
 "metadata": {
  "kernelspec": {
   "display_name": "Python 2",
   "language": "python",
   "name": "python2"
  },
  "language_info": {
   "codemirror_mode": {
    "name": "ipython",
    "version": 2
   },
   "file_extension": ".py",
   "mimetype": "text/x-python",
   "name": "python",
   "nbconvert_exporter": "python",
   "pygments_lexer": "ipython2",
   "version": "2.7.12"
  }
 },
 "nbformat": 4,
 "nbformat_minor": 0
}
