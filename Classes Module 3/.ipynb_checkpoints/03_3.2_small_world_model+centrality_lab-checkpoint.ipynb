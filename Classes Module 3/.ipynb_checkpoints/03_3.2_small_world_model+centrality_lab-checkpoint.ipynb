{
 "cells": [
  {
   "cell_type": "markdown",
   "metadata": {},
   "source": [
    "# Network Models: Small World"
   ]
  },
  {
   "cell_type": "code",
   "execution_count": 15,
   "metadata": {
    "collapsed": false
   },
   "outputs": [],
   "source": [
    "import numpy as np\n",
    "import matplotlib.pyplot as plt\n",
    "plt.xkcd()\n",
    "import networkx as nx\n",
    "%matplotlib inline"
   ]
  },
  {
   "cell_type": "markdown",
   "metadata": {},
   "source": [
    "During this seminar we will work with **Watts and Strogatz model**.\n",
    "Again, the idea of the model:\n",
    "\n",
    "1. Start with regular lattice with N nodes, K nearest neighbours\n",
    "2. For each node take every edge and rewire it with probability $p$, assuming that there is no loops and edge duplications"
   ]
  },
  {
   "cell_type": "markdown",
   "metadata": {},
   "source": [
    "##### Task"
   ]
  },
  {
   "cell_type": "markdown",
   "metadata": {},
   "source": [
    " 1. Implement *rewind(G, p)* function that takes graph G and probability p as input. The function should produce a graph after step 2 of the model above. \n",
    " 2. Run experiments for various values of p, compute and show \n",
    "     * average path length \n",
    "     * clustering coefficients (transitivity) \n",
    "     * degree distribution     \n",
    " 3. Compute centrality metrics for the [network](http://www-personal.umich.edu/~mejn/netdata/polblogs.zip) (including eigenvector, Katz, dispersion, local load centralities) and highlight interaction between vertices with the highest degree. Plot the interesting cases and interpret them.\n",
    " 4. Try to model the network from (3) with Small World Model and Erdos-Renyi Model.\n",
    " 5. Plot the dependencies between different centrality metrics for the network and the simultaed graphs. Are there any correlations between centrality metrics? Explain the differences."
   ]
  },
  {
   "cell_type": "code",
   "execution_count": 16,
   "metadata": {
    "collapsed": false
   },
   "outputs": [],
   "source": [
    "def gen_regular_graph(n, k):\n",
    "    G = nx.Graph()\n",
    "    nodes = list(range(n))\n",
    "    for j in range(1, k // 2+1):\n",
    "        targets = nodes[j:] + nodes[0:j] # first j nodes are now last in list\n",
    "        G.add_edges_from(zip(nodes,targets))\n",
    "    return G\n",
    "\n",
    "def degree_distr(k, bins = 100):\n",
    "    yh, binEdges = np.histogram(k, bins)\n",
    "    bincenters = 0.5*(binEdges[1:]+binEdges[:-1])\n",
    "    return yh, bincenters"
   ]
  }
 ],
 "metadata": {
  "kernelspec": {
   "display_name": "Python 2",
   "language": "python",
   "name": "python2"
  },
  "language_info": {
   "codemirror_mode": {
    "name": "ipython",
    "version": 2
   },
   "file_extension": ".py",
   "mimetype": "text/x-python",
   "name": "python",
   "nbconvert_exporter": "python",
   "pygments_lexer": "ipython2",
   "version": "2.7.11"
  }
 },
 "nbformat": 4,
 "nbformat_minor": 0
}
