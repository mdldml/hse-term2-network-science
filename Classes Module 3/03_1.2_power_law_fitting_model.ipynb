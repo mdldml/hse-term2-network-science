{
 "cells": [
  {
   "cell_type": "markdown",
   "metadata": {},
   "source": [
    "## Lab 1 31.01.2017"
   ]
  },
  {
   "cell_type": "markdown",
   "metadata": {},
   "source": [
    "### Load the graph"
   ]
  },
  {
   "cell_type": "markdown",
   "metadata": {},
   "source": [
    "Find and plot PDF and CDF for the following networks:\n",
    "* [Facebook network](http://www.leonidzhukov.net/hse/2015/networks/data/fb_Princeton.txt)\n",
    "\n",
    "0. Load the graph. Plot descriptive statistics for the network (number of vertices, number of edges, number of connected components, radius, diameter, degree distribution, shortest path destribution)"
   ]
  },
  {
   "cell_type": "markdown",
   "metadata": {},
   "source": [
    "We use NetworkX for working with graph, use builtin function read_edgelist to load it from the list of edges:"
   ]
  },
  {
   "cell_type": "code",
   "execution_count": null,
   "execution_count": 1,
   "metadata": {
    "collapsed": true
    "collapsed": false
   },
   "outputs": [],
   "source": [
    "# Put your code here"
    "import networkx as nx\n",
    "import matplotlib.pyplot as plt\n",
    "import numpy as np\n",
    "%matplotlib inline\n",
    "\n",
    "G = nx.read_edgelist(path=\"fb_Princeton.txt\")"


   ]
  },
  {
   "cell_type": "markdown",
   "metadata": {},
   "source": [
    "Number of vertices, edges and connected components can be counted directly:"
   ]
  },
  {
   "cell_type": "code",
   "execution_count": 87,
   "metadata": {
    "collapsed": false
   },
   "outputs": [
    {
     "name": "stdout",
     "output_type": "stream",
     "text": [
      "vertices: 6596\n",
      "edges: 293320\n",
      "number of connected components: 10\n"
     ]
    }
   ],
   "source": [
    "print(\"vertices: %d\" % len(G.nodes()))\n",
    "print(\"edges: %d\" % len(G.edges()))\n",
    "\n",
    "print(\"number of connected components: %d\" % nx.number_connected_components(G))\n"
   ]
  },
  {
   "cell_type": "markdown",
   "metadata": {},
   "source": [
    "The graph is not connected and pretty big, therefore we count estimations of radius and diameter in the biggest connected connectivity component:"
   ]
  },
  {
   "cell_type": "code",
   "execution_count": 88,
   "metadata": {
    "collapsed": false
   },
   "outputs": [
    {
     "name": "stdout",
     "output_type": "stream",
     "text": [
      "nodes in maximal connected component: 6575\n",
      "approx radius: 5\n",
      "approx diameter: 8\n"
     ]
    }
   ],
   "source": [
    "Gmax_nodes = max(nx.connected_components(G), key=len)\n",
    "Gmax = G.subgraph(Gmax_nodes)\n",
    "print(\"nodes in maximal connected component: %d\" % len(Gmax.nodes()))\n",
    "\n",
    "sample_size = 100\n",
    "eccentricities = []\n",
    "chosen_shortest_paths = np.array([])\n",
    "\n",
    "for v in np.random.choice(Gmax_nodes, sample_size):\n",
    "    paths = nx.single_source_shortest_path_length(G, v)\n",
    "    eccentricities.append(max(paths.values()))\n",
    "    # this list will be used for drawing shortest paths distribution histogram:\n",
    "    chosen_shortest_paths = np.concatenate((chosen_shortest_paths, np.random.choice(list(paths.values()), sample_size)))\n",
    "\n",
    "print(\"approx radius: %d\" % min(eccentricities))\n",
    "print(\"approx diameter: %d\" % max(eccentricities))"
   ]
  },
  {
   "cell_type": "markdown",
   "metadata": {},
   "source": [
    "We draw rank plot (with linear binning) to see the distribution of vertices' degrees:"
   ]
  },
  {
   "cell_type": "code",
   "execution_count": 34,
   "metadata": {
    "collapsed": false
   },
   "outputs": [
    {
     "data": {
      "text/plain": [
       "<matplotlib.text.Text at 0x15c87048>"
      ]
     },
     "execution_count": 34,
     "metadata": {},
     "output_type": "execute_result"
    },
    {
     "data": {
      "image/png": "iVBORw0KGgoAAAANSUhEUgAAAiUAAAGNCAYAAADOygH1AAAABHNCSVQICAgIfAhkiAAAAAlwSFlz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\n",
      "text/plain": [
       "<matplotlib.figure.Figure at 0x149b3e80>"
      ]
     },
     "metadata": {},
     "output_type": "display_data"
    }
   ],
   "source": [
    "yh, binEdges=np.histogram(list(nx.degree(G).values()), bins=2000)\n",
    "bincenters = 0.5 * (binEdges[1:] + binEdges[:-1])\n",
    "\n",
    "plt.loglog(bincenters, yh, '.', lw=2)\n",
    "plt.title(\"Degree distribution\")\n",
    "plt.ylabel(\"degree\")\n",
    "plt.xlabel(\"rank\")"
   ]
  },
  {
   "cell_type": "markdown",
   "metadata": {},
   "source": [
    "To obtain the shortest paths distribution, we take random shortest paths in the largest connectivity component (see code above) and draw the histogram:"
   ]
  },
  {
   "cell_type": "code",
   "execution_count": 32,
   "metadata": {
    "collapsed": false
   },
   "outputs": [
    {
     "data": {
      "text/plain": [
       "<matplotlib.text.Text at 0x1491fb00>"
      ]
     },
     "execution_count": 32,
     "metadata": {},
     "output_type": "execute_result"
    },
    {
     "data": {
      "image/png": "iVBORw0KGgoAAAANSUhEUgAAAhwAAAGHCAYAAAD7t4thAAAABHNCSVQICAgIfAhkiAAAAAlwSFlz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\nde7/A3AcrI226oDQAAAAAElFTkSuQmCC\n",
      "text/plain": [
       "<matplotlib.figure.Figure at 0x1490c518>"
      ]
     },
     "metadata": {},
     "output_type": "display_data"
    }
   ],
   "source": [
    "shortest_paths_sequence=sorted(chosen_shortest_paths, reverse=True)\n",
    "plt.hist(shortest_paths_sequence, bins=np.arange(0.5, 9.5), log=True)\n",
    "plt.title(\"Shortest paths histogram\")\n",
    "plt.ylabel(\"count\")\n",
    "plt.xlabel(\"length\")"
   ]
  },
  {
   "cell_type": "markdown",
   "metadata": {},
   "source": [
    "### Power Law"
   ]
  },
  {
   "cell_type": "markdown",
   "metadata": {},
   "source": [
    "1) Does it satisfy power law?\n",
    "1) Does it satisfy power law?\n"
   ]
  },
  {
   "cell_type": "markdown",
   "metadata": {},
   "source": [
    "We use linear regression to check whether this graph satisfies power law:"
   ]
  },
  {
   "cell_type": "code",
   "execution_count": 91,
   "metadata": {
    "collapsed": false
   },
   "outputs": [
    {
     "name": "stdout",
     "output_type": "stream",
     "text": [
      "determinancy coefficient: 0.705491\n"
     ]
    },
    {
     "data": {
      "image/png": "iVBORw0KGgoAAAANSUhEUgAAAnIAAAJ+CAYAAAA37O3uAAAABHNCSVQICAgIfAhkiAAAAAlwSFlz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\ncgAAAABJRU5ErkJggg==\n",
      "text/plain": [
       "<matplotlib.figure.Figure at 0x15ec8ac8>"
      ]
     },
     "metadata": {},
     "output_type": "display_data"
    }
   ],
   "source": [
    "from math import *\n",
    "\n",
    "degrees = sorted(list(nx.degree(G).values()))\n",
    "n = len(degrees)\n",
    "yh, binEdges = np.histogram(list(degrees), bins=2000)#, range=r)\n",
    "bincenters = 0.5 * (binEdges[1:] + binEdges[:-1])\n",
    "\n",
    "x_est = np.log(bincenters[np.ix_(yh != 0)])\n",
    "y_est = np.log(yh[np.ix_(yh != 0)])\n",
    "\n",
    "X = np.vstack([np.ones(len(x_est)), x_est]).T\n",
    "Beta = np.dot(np.dot(np.linalg.inv(np.dot(X.T, X)), X.T), y_est)\n",
    "\n",
    "# idx = np.argsort(x_est)\n",
    "yt = np.exp(X[:,:].dot(Beta))\n",
    "xt = np.exp(X[:, 1])\n",
    "\n",
    "fig, ax = plt.subplots()\n",
    "fig.set_size_inches(7, 7)\n",
    "ax.loglog(bincenters, yh, '.r', label='Data') \n",
    "ax.loglog(xt, yt, 'b', label='Line')\n",
    "plt.ylabel('count')\n",
    "plt.xlabel('$x$')\n",
    "ax.legend(loc='upper right', shadow=True)\n",
    "plt.title('Estimated $\\\\alpha$ = {0:1.4f}'.format(-Beta[1]), fontsize=20)\n",
    "\n",
    "det_coeff = 1 - np.sum(np.square(X.dot(Beta) - y_est)) / np.sum(np.square(np.mean(y_est) - y_est))\n",
    "print(\"determinancy coefficient: %f\" % det_coeff)"
   ]
  },
  {
   "cell_type": "markdown",
   "metadata": {},
   "source": [
    "As we can see, determinancy coefficient is large enough, so probably this is a scale-free network. "
   ]
  },
  {
   "cell_type": "markdown",
   "metadata": {},
   "source": [
    "\n",
    "2) Find max and mean values of incoming and outcoming node degrees"
   ]
  },
  {
   "cell_type": "code",
   "execution_count": 5,
   "execution_count": 90,
   "metadata": {
    "collapsed": true
    "collapsed": false
   },
   "outputs": [],
   "outputs": [
    {
     "name": "stdout",
     "output_type": "stream",
     "text": [
      "max value: 628, mean value: 88.938751\n"
     ]
    }
   ],
   "source": [
    "# Put your code here"
    "print(\"max value: %d, mean value: %f\" % (max(degrees), np.mean(degrees)))"
   ]
  },
  {
   "cell_type": "markdown",
   "metadata": {},
   "source": [
    "3) Find $\\alpha$ via Maximum Likelihood and calculate $\\sigma^2$"
   ]
  },
  {
   "cell_type": "markdown",
   "metadata": {},
   "source": [
    "$\\alpha = 1 + n \\left[ \\sum\\limits_{i=1}^{n} \\ln \\frac{x_i}{x_{min}} \\right], \\quad \\sigma = \\frac{\\alpha - 1} {\\sqrt{n}}$ "
   ]
  },
  {
   "cell_type": "code",
   "execution_count": 6,
   "execution_count": 85,
   "metadata": {
    "collapsed": true
    "collapsed": false
   },
   "outputs": [],
   "outputs": [
    {
     "name": "stdout",
     "output_type": "stream",
     "text": [
      "alpha: 1.255331, sigma^2: 0.000010\n"
     ]
    }
   ],
   "source": [
    "# Put your code here"
    "x_min = min(degrees)\n",
    "alpha = 1 + n / sum([log(xi / x_min) for xi in degrees])\n",
    "\n",
    "sigma = (alpha - 1) / sqrt(n)\n",
    "print(\"alpha: %f, sigma^2: %f\" % (alpha, sigma ** 2))"
   ]
  },
  {
   "cell_type": "markdown",
   "metadata": {},
   "source": [
    "4) Determine $x_{min}$ via Kolmogorov-Smirnov test"
   ]
  },
  {
   "cell_type": "markdown",
   "metadata": {},
   "source": [
    "$x_{min} = argmin_{x_{min}} \\max\\limits_{x} |F(x|\\alpha, x_{min}) - F_{exp}(x)|$"
   ]
  },
  {
   "cell_type": "code",
   "execution_count": 7,
   "metadata": {
    "collapsed": true
   },
   "outputs": [],
   "source": [
    "# Put your code here"
    "# Put your code here\n",
    "\n",
    "def dist(x_min):\n",
    "    "
   ]
  }
 ],
 "metadata": {
  "kernelspec": {
   "display_name": "Python 2",
   "display_name": "Python 3",
   "language": "python",
   "name": "python2"
   "name": "python3"
  },
  "language_info": {
   "codemirror_mode": {
    "name": "ipython",
    "version": 2
    "version": 3
   },
   "file_extension": ".py",
   "mimetype": "text/x-python",
   "name": "python",
   "nbconvert_exporter": "python",
   "pygments_lexer": "ipython2",
   "version": "2.7.11"
   "pygments_lexer": "ipython3",
   "version": "3.4.2"
  }
 },
 "nbformat": 4,
 "nbformat_minor": 0
}
